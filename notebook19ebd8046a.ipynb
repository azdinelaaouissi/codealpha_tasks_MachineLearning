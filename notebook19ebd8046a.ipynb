{
 "cells": [
  {
   "cell_type": "code",
   "execution_count": 1,
   "id": "a307afd6",
   "metadata": {
    "_cell_guid": "b1076dfc-b9ad-4769-8c92-a6c4dae69d19",
    "_uuid": "8f2839f25d086af736a60e9eeb907d3b93b6e0e5",
    "execution": {
     "iopub.execute_input": "2024-08-04T21:24:12.640170Z",
     "iopub.status.busy": "2024-08-04T21:24:12.639527Z",
     "iopub.status.idle": "2024-08-04T21:24:12.652854Z",
     "shell.execute_reply": "2024-08-04T21:24:12.652180Z"
    },
    "papermill": {
     "duration": 0.023022,
     "end_time": "2024-08-04T21:24:12.654717",
     "exception": false,
     "start_time": "2024-08-04T21:24:12.631695",
     "status": "completed"
    },
    "tags": []
   },
   "outputs": [],
   "source": [
    "%config Completer.use_jedi = False"
   ]
  },
  {
   "cell_type": "code",
   "execution_count": 2,
   "id": "dc671940",
   "metadata": {
    "execution": {
     "iopub.execute_input": "2024-08-04T21:24:12.667393Z",
     "iopub.status.busy": "2024-08-04T21:24:12.667150Z",
     "iopub.status.idle": "2024-08-04T21:24:25.251364Z",
     "shell.execute_reply": "2024-08-04T21:24:25.250557Z"
    },
    "papermill": {
     "duration": 12.593081,
     "end_time": "2024-08-04T21:24:25.253692",
     "exception": false,
     "start_time": "2024-08-04T21:24:12.660611",
     "status": "completed"
    },
    "tags": []
   },
   "outputs": [
    {
     "name": "stderr",
     "output_type": "stream",
     "text": [
      "2024-08-04 21:24:16.063215: E external/local_xla/xla/stream_executor/cuda/cuda_dnn.cc:9261] Unable to register cuDNN factory: Attempting to register factory for plugin cuDNN when one has already been registered\n",
      "2024-08-04 21:24:16.063319: E external/local_xla/xla/stream_executor/cuda/cuda_fft.cc:607] Unable to register cuFFT factory: Attempting to register factory for plugin cuFFT when one has already been registered\n",
      "2024-08-04 21:24:16.166614: E external/local_xla/xla/stream_executor/cuda/cuda_blas.cc:1515] Unable to register cuBLAS factory: Attempting to register factory for plugin cuBLAS when one has already been registered\n"
     ]
    }
   ],
   "source": [
    "import  pandas  as  pd\n",
    "import  numpy  as  np\n",
    "import  matplotlib.pyplot  as  plt\n",
    "import  seaborn  as  sns\n",
    "from  sklearn.metrics  import  *\n",
    "from  tensorflow.keras.models  import  Sequential\n",
    "from  tensorflow.keras.layers  import  Dense,Dropout,Conv2D,MaxPool2D,Flatten\n",
    "from  tensorflow.keras.datasets  import  cifar10\n",
    "from  tensorflow.keras.utils  import  to_categorical\n",
    "from  tensorflow.keras.callbacks  import  EarlyStopping\n",
    "import warnings\n",
    "warnings.filterwarnings('ignore')"
   ]
  },
  {
   "cell_type": "code",
   "execution_count": 3,
   "id": "24d75735",
   "metadata": {
    "execution": {
     "iopub.execute_input": "2024-08-04T21:24:25.267413Z",
     "iopub.status.busy": "2024-08-04T21:24:25.266892Z",
     "iopub.status.idle": "2024-08-04T21:24:33.820236Z",
     "shell.execute_reply": "2024-08-04T21:24:33.819457Z"
    },
    "papermill": {
     "duration": 8.562462,
     "end_time": "2024-08-04T21:24:33.822533",
     "exception": false,
     "start_time": "2024-08-04T21:24:25.260071",
     "status": "completed"
    },
    "tags": []
   },
   "outputs": [
    {
     "name": "stdout",
     "output_type": "stream",
     "text": [
      "Downloading data from https://www.cs.toronto.edu/~kriz/cifar-10-python.tar.gz\n",
      "\u001b[1m170498071/170498071\u001b[0m \u001b[32m━━━━━━━━━━━━━━━━━━━━\u001b[0m\u001b[37m\u001b[0m \u001b[1m6s\u001b[0m 0us/step\n"
     ]
    }
   ],
   "source": [
    "(x_train,y_train),(x_test,y_test)=cifar10.load_data()"
   ]
  },
  {
   "cell_type": "code",
   "execution_count": 4,
   "id": "683f4916",
   "metadata": {
    "execution": {
     "iopub.execute_input": "2024-08-04T21:24:33.847411Z",
     "iopub.status.busy": "2024-08-04T21:24:33.847130Z",
     "iopub.status.idle": "2024-08-04T21:24:33.853601Z",
     "shell.execute_reply": "2024-08-04T21:24:33.852771Z"
    },
    "papermill": {
     "duration": 0.020957,
     "end_time": "2024-08-04T21:24:33.855544",
     "exception": false,
     "start_time": "2024-08-04T21:24:33.834587",
     "status": "completed"
    },
    "tags": []
   },
   "outputs": [
    {
     "data": {
      "text/plain": [
       "(50000, 32, 32, 3)"
      ]
     },
     "execution_count": 4,
     "metadata": {},
     "output_type": "execute_result"
    }
   ],
   "source": [
    "x_train.shape"
   ]
  },
  {
   "cell_type": "code",
   "execution_count": 5,
   "id": "a3504c46",
   "metadata": {
    "execution": {
     "iopub.execute_input": "2024-08-04T21:24:33.880105Z",
     "iopub.status.busy": "2024-08-04T21:24:33.879860Z",
     "iopub.status.idle": "2024-08-04T21:24:34.148920Z",
     "shell.execute_reply": "2024-08-04T21:24:34.148070Z"
    },
    "papermill": {
     "duration": 0.283654,
     "end_time": "2024-08-04T21:24:34.151011",
     "exception": false,
     "start_time": "2024-08-04T21:24:33.867357",
     "status": "completed"
    },
    "tags": []
   },
   "outputs": [
    {
     "data": {
      "text/plain": [
       "<matplotlib.image.AxesImage at 0x7e72cb53abc0>"
      ]
     },
     "execution_count": 5,
     "metadata": {},
     "output_type": "execute_result"
    },
    {
     "data": {
      "image/png": "[encoded data removed]",
      "text/plain": [
       "<Figure size 640x480 with 1 Axes>"
      ]
     },
     "metadata": {},
     "output_type": "display_data"
    }
   ],
   "source": [
    "plt.imshow(x_train[0])"
   ]
  },
  {
   "cell_type": "code",
   "execution_count": 6,
   "id": "4183ea6a",
   "metadata": {
    "execution": {
     "iopub.execute_input": "2024-08-04T21:24:34.177579Z",
     "iopub.status.busy": "2024-08-04T21:24:34.176718Z",
     "iopub.status.idle": "2024-08-04T21:24:34.625443Z",
     "shell.execute_reply": "2024-08-04T21:24:34.624634Z"
    },
    "papermill": {
     "duration": 0.464336,
     "end_time": "2024-08-04T21:24:34.627839",
     "exception": false,
     "start_time": "2024-08-04T21:24:34.163503",
     "status": "completed"
    },
    "tags": []
   },
   "outputs": [],
   "source": [
    "x_train=x_train/255\n",
    "x_test=x_test/255"
   ]
  },
  {
   "cell_type": "code",
   "execution_count": 7,
   "id": "0b2ec192",
   "metadata": {
    "execution": {
     "iopub.execute_input": "2024-08-04T21:24:34.654938Z",
     "iopub.status.busy": "2024-08-04T21:24:34.654562Z",
     "iopub.status.idle": "2024-08-04T21:24:34.660096Z",
     "shell.execute_reply": "2024-08-04T21:24:34.659235Z"
    },
    "papermill": {
     "duration": 0.021304,
     "end_time": "2024-08-04T21:24:34.661886",
     "exception": false,
     "start_time": "2024-08-04T21:24:34.640582",
     "status": "completed"
    },
    "tags": []
   },
   "outputs": [
    {
     "data": {
      "text/plain": [
       "(10000, 1)"
      ]
     },
     "execution_count": 7,
     "metadata": {},
     "output_type": "execute_result"
    }
   ],
   "source": [
    "y_test.shape"
   ]
  },
  {
   "cell_type": "code",
   "execution_count": 8,
   "id": "d0cc08d1",
   "metadata": {
    "execution": {
     "iopub.execute_input": "2024-08-04T21:24:34.687643Z",
     "iopub.status.busy": "2024-08-04T21:24:34.687374Z",
     "iopub.status.idle": "2024-08-04T21:24:34.694348Z",
     "shell.execute_reply": "2024-08-04T21:24:34.693426Z"
    },
    "papermill": {
     "duration": 0.022042,
     "end_time": "2024-08-04T21:24:34.696293",
     "exception": false,
     "start_time": "2024-08-04T21:24:34.674251",
     "status": "completed"
    },
    "tags": []
   },
   "outputs": [
    {
     "data": {
      "text/plain": [
       "array([0, 1, 2, 3, 4, 5, 6, 7, 8, 9], dtype=uint8)"
      ]
     },
     "execution_count": 8,
     "metadata": {},
     "output_type": "execute_result"
    }
   ],
   "source": [
    "np.unique(y_train)"
   ]
  },
  {
   "cell_type": "code",
   "execution_count": 9,
   "id": "9cb50727",
   "metadata": {
    "execution": {
     "iopub.execute_input": "2024-08-04T21:24:34.722077Z",
     "iopub.status.busy": "2024-08-04T21:24:34.721827Z",
     "iopub.status.idle": "2024-08-04T21:24:34.727682Z",
     "shell.execute_reply": "2024-08-04T21:24:34.726773Z"
    },
    "papermill": {
     "duration": 0.021001,
     "end_time": "2024-08-04T21:24:34.729608",
     "exception": false,
     "start_time": "2024-08-04T21:24:34.708607",
     "status": "completed"
    },
    "tags": []
   },
   "outputs": [],
   "source": [
    "y_cat_train=to_categorical(y_train)\n",
    "y_cat_test=to_categorical(y_test)"
   ]
  },
  {
   "cell_type": "code",
   "execution_count": 10,
   "id": "0ab3c0c5",
   "metadata": {
    "execution": {
     "iopub.execute_input": "2024-08-04T21:24:34.755350Z",
     "iopub.status.busy": "2024-08-04T21:24:34.755068Z",
     "iopub.status.idle": "2024-08-04T21:24:34.761124Z",
     "shell.execute_reply": "2024-08-04T21:24:34.760326Z"
    },
    "papermill": {
     "duration": 0.021113,
     "end_time": "2024-08-04T21:24:34.763064",
     "exception": false,
     "start_time": "2024-08-04T21:24:34.741951",
     "status": "completed"
    },
    "tags": []
   },
   "outputs": [
    {
     "data": {
      "text/plain": [
       "array([0., 0., 0., 0., 0., 0., 1., 0., 0., 0.])"
      ]
     },
     "execution_count": 10,
     "metadata": {},
     "output_type": "execute_result"
    }
   ],
   "source": [
    "y_cat_train[0]"
   ]
  },
  {
   "cell_type": "code",
   "execution_count": 11,
   "id": "32ff5f30",
   "metadata": {
    "execution": {
     "iopub.execute_input": "2024-08-04T21:24:34.789286Z",
     "iopub.status.busy": "2024-08-04T21:24:34.789002Z",
     "iopub.status.idle": "2024-08-04T21:24:34.793244Z",
     "shell.execute_reply": "2024-08-04T21:24:34.792459Z"
    },
    "papermill": {
     "duration": 0.019586,
     "end_time": "2024-08-04T21:24:34.795255",
     "exception": false,
     "start_time": "2024-08-04T21:24:34.775669",
     "status": "completed"
    },
    "tags": []
   },
   "outputs": [],
   "source": [
    "x_train = x_train.reshape(50000, 32, 32, 3)\n",
    "x_test = x_test.reshape(10000, 32, 32, 3)"
   ]
  },
  {
   "cell_type": "code",
   "execution_count": 12,
   "id": "c4fd06c8",
   "metadata": {
    "execution": {
     "iopub.execute_input": "2024-08-04T21:24:34.821491Z",
     "iopub.status.busy": "2024-08-04T21:24:34.821233Z",
     "iopub.status.idle": "2024-08-04T21:24:35.550900Z",
     "shell.execute_reply": "2024-08-04T21:24:35.550129Z"
    },
    "papermill": {
     "duration": 0.745383,
     "end_time": "2024-08-04T21:24:35.553206",
     "exception": false,
     "start_time": "2024-08-04T21:24:34.807823",
     "status": "completed"
    },
    "tags": []
   },
   "outputs": [],
   "source": [
    "\n",
    "# Couche convolutive\n",
    "model=Sequential()\n",
    "model.add(Conv2D(filters=32, kernel_size=(4,4), input_shape=(32, 32, 3), activation='relu'))\n",
    "model.add(MaxPool2D(pool_size=(2, 2)))\n",
    "\n",
    "\n",
    "# Couche convolutive\n",
    "model.add(Conv2D(filters=32, kernel_size=(4,4),input_shape=(32, 32, 3), activation='relu'))\n",
    "model.add(MaxPool2D(pool_size=(2, 2)))\n",
    "\n",
    "\n",
    "# Couche Flatten\n",
    "model.add(Flatten())\n",
    "\n",
    "# Couche Dense\n",
    "model.add(Dense(256, activation='relu'))\n",
    "model.add(Dense(10, activation='softmax'))\n",
    "\n",
    "# Compilation du modèle\n",
    "model.compile(loss='categorical_crossentropy',\n",
    "              optimizer='adam',\n",
    "              metrics=['accuracy'])\n"
   ]
  },
  {
   "cell_type": "code",
   "execution_count": 13,
   "id": "389c6d24",
   "metadata": {
    "execution": {
     "iopub.execute_input": "2024-08-04T21:24:35.579806Z",
     "iopub.status.busy": "2024-08-04T21:24:35.579490Z",
     "iopub.status.idle": "2024-08-04T21:24:35.600068Z",
     "shell.execute_reply": "2024-08-04T21:24:35.599220Z"
    },
    "papermill": {
     "duration": 0.035946,
     "end_time": "2024-08-04T21:24:35.601987",
     "exception": false,
     "start_time": "2024-08-04T21:24:35.566041",
     "status": "completed"
    },
    "tags": []
   },
   "outputs": [
    {
     "data": {
      "text/html": [
       "<pre style=\"white-space:pre;overflow-x:auto;line-height:normal;font-family:Menlo,'DejaVu Sans Mono',consolas,'Courier New',monospace\"><span style=\"font-weight: bold\">Model: \"sequential\"</span>\n",
       "</pre>\n"
      ],
      "text/plain": [
       "\u001b[1mModel: \"sequential\"\u001b[0m\n"
      ]
     },
     "metadata": {},
     "output_type": "display_data"
    },
    {
     "data": {
      "text/html": [
       "<pre style=\"white-space:pre;overflow-x:auto;line-height:normal;font-family:Menlo,'DejaVu Sans Mono',consolas,'Courier New',monospace\">┏━━━━━━━━━━━━━━━━━━━━━━━━━━━━━━━━━┳━━━━━━━━━━━━━━━━━━━━━━━━┳━━━━━━━━━━━━━━━┓\n",
       "┃<span style=\"font-weight: bold\"> Layer (type)                    </span>┃<span style=\"font-weight: bold\"> Output Shape           </span>┃<span style=\"font-weight: bold\">       Param # </span>┃\n",
       "┡━━━━━━━━━━━━━━━━━━━━━━━━━━━━━━━━━╇━━━━━━━━━━━━━━━━━━━━━━━━╇━━━━━━━━━━━━━━━┩\n",
       "│ conv2d (<span style=\"color: #0087ff; text-decoration-color: #0087ff\">Conv2D</span>)                 │ (<span style=\"color: #00d7ff; text-decoration-color: #00d7ff\">None</span>, <span style=\"color: #00af00; text-decoration-color: #00af00\">29</span>, <span style=\"color: #00af00; text-decoration-color: #00af00\">29</span>, <span style=\"color: #00af00; text-decoration-color: #00af00\">32</span>)     │         <span style=\"color: #00af00; text-decoration-color: #00af00\">1,568</span> │\n",
       "├─────────────────────────────────┼────────────────────────┼───────────────┤\n",
       "│ max_pooling2d (<span style=\"color: #0087ff; text-decoration-color: #0087ff\">MaxPooling2D</span>)    │ (<span style=\"color: #00d7ff; text-decoration-color: #00d7ff\">None</span>, <span style=\"color: #00af00; text-decoration-color: #00af00\">14</span>, <span style=\"color: #00af00; text-decoration-color: #00af00\">14</span>, <span style=\"color: #00af00; text-decoration-color: #00af00\">32</span>)     │             <span style=\"color: #00af00; text-decoration-color: #00af00\">0</span> │\n",
       "├─────────────────────────────────┼────────────────────────┼───────────────┤\n",
       "│ conv2d_1 (<span style=\"color: #0087ff; text-decoration-color: #0087ff\">Conv2D</span>)               │ (<span style=\"color: #00d7ff; text-decoration-color: #00d7ff\">None</span>, <span style=\"color: #00af00; text-decoration-color: #00af00\">11</span>, <span style=\"color: #00af00; text-decoration-color: #00af00\">11</span>, <span style=\"color: #00af00; text-decoration-color: #00af00\">32</span>)     │        <span style=\"color: #00af00; text-decoration-color: #00af00\">16,416</span> │\n",
       "├─────────────────────────────────┼────────────────────────┼───────────────┤\n",
       "│ max_pooling2d_1 (<span style=\"color: #0087ff; text-decoration-color: #0087ff\">MaxPooling2D</span>)  │ (<span style=\"color: #00d7ff; text-decoration-color: #00d7ff\">None</span>, <span style=\"color: #00af00; text-decoration-color: #00af00\">5</span>, <span style=\"color: #00af00; text-decoration-color: #00af00\">5</span>, <span style=\"color: #00af00; text-decoration-color: #00af00\">32</span>)       │             <span style=\"color: #00af00; text-decoration-color: #00af00\">0</span> │\n",
       "├─────────────────────────────────┼────────────────────────┼───────────────┤\n",
       "│ flatten (<span style=\"color: #0087ff; text-decoration-color: #0087ff\">Flatten</span>)               │ (<span style=\"color: #00d7ff; text-decoration-color: #00d7ff\">None</span>, <span style=\"color: #00af00; text-decoration-color: #00af00\">800</span>)            │             <span style=\"color: #00af00; text-decoration-color: #00af00\">0</span> │\n",
       "├─────────────────────────────────┼────────────────────────┼───────────────┤\n",
       "│ dense (<span style=\"color: #0087ff; text-decoration-color: #0087ff\">Dense</span>)                   │ (<span style=\"color: #00d7ff; text-decoration-color: #00d7ff\">None</span>, <span style=\"color: #00af00; text-decoration-color: #00af00\">256</span>)            │       <span style=\"color: #00af00; text-decoration-color: #00af00\">205,056</span> │\n",
       "├─────────────────────────────────┼────────────────────────┼───────────────┤\n",
       "│ dense_1 (<span style=\"color: #0087ff; text-decoration-color: #0087ff\">Dense</span>)                 │ (<span style=\"color: #00d7ff; text-decoration-color: #00d7ff\">None</span>, <span style=\"color: #00af00; text-decoration-color: #00af00\">10</span>)             │         <span style=\"color: #00af00; text-decoration-color: #00af00\">2,570</span> │\n",
       "└─────────────────────────────────┴────────────────────────┴───────────────┘\n",
       "</pre>\n"
      ],
      "text/plain": [
       "┏━━━━━━━━━━━━━━━━━━━━━━━━━━━━━━━━━┳━━━━━━━━━━━━━━━━━━━━━━━━┳━━━━━━━━━━━━━━━┓\n",
       "┃\u001b[1m \u001b[0m\u001b[1mLayer (type)                   \u001b[0m\u001b[1m \u001b[0m┃\u001b[1m \u001b[0m\u001b[1mOutput Shape          \u001b[0m\u001b[1m \u001b[0m┃\u001b[1m \u001b[0m\u001b[1m      Param #\u001b[0m\u001b[1m \u001b[0m┃\n",
       "┡━━━━━━━━━━━━━━━━━━━━━━━━━━━━━━━━━╇━━━━━━━━━━━━━━━━━━━━━━━━╇━━━━━━━━━━━━━━━┩\n",
       "│ conv2d (\u001b[38;5;33mConv2D\u001b[0m)                 │ (\u001b[38;5;45mNone\u001b[0m, \u001b[38;5;34m29\u001b[0m, \u001b[38;5;34m29\u001b[0m, \u001b[38;5;34m32\u001b[0m)     │         \u001b[38;5;34m1,568\u001b[0m │\n",
       "├─────────────────────────────────┼────────────────────────┼───────────────┤\n",
       "│ max_pooling2d (\u001b[38;5;33mMaxPooling2D\u001b[0m)    │ (\u001b[38;5;45mNone\u001b[0m, \u001b[38;5;34m14\u001b[0m, \u001b[38;5;34m14\u001b[0m, \u001b[38;5;34m32\u001b[0m)     │             \u001b[38;5;34m0\u001b[0m │\n",
       "├─────────────────────────────────┼────────────────────────┼───────────────┤\n",
       "│ conv2d_1 (\u001b[38;5;33mConv2D\u001b[0m)               │ (\u001b[38;5;45mNone\u001b[0m, \u001b[38;5;34m11\u001b[0m, \u001b[38;5;34m11\u001b[0m, \u001b[38;5;34m32\u001b[0m)     │        \u001b[38;5;34m16,416\u001b[0m │\n",
       "├─────────────────────────────────┼────────────────────────┼───────────────┤\n",
       "│ max_pooling2d_1 (\u001b[38;5;33mMaxPooling2D\u001b[0m)  │ (\u001b[38;5;45mNone\u001b[0m, \u001b[38;5;34m5\u001b[0m, \u001b[38;5;34m5\u001b[0m, \u001b[38;5;34m32\u001b[0m)       │             \u001b[38;5;34m0\u001b[0m │\n",
       "├─────────────────────────────────┼────────────────────────┼───────────────┤\n",
       "│ flatten (\u001b[38;5;33mFlatten\u001b[0m)               │ (\u001b[38;5;45mNone\u001b[0m, \u001b[38;5;34m800\u001b[0m)            │             \u001b[38;5;34m0\u001b[0m │\n",
       "├─────────────────────────────────┼────────────────────────┼───────────────┤\n",
       "│ dense (\u001b[38;5;33mDense\u001b[0m)                   │ (\u001b[38;5;45mNone\u001b[0m, \u001b[38;5;34m256\u001b[0m)            │       \u001b[38;5;34m205,056\u001b[0m │\n",
       "├─────────────────────────────────┼────────────────────────┼───────────────┤\n",
       "│ dense_1 (\u001b[38;5;33mDense\u001b[0m)                 │ (\u001b[38;5;45mNone\u001b[0m, \u001b[38;5;34m10\u001b[0m)             │         \u001b[38;5;34m2,570\u001b[0m │\n",
       "└─────────────────────────────────┴────────────────────────┴───────────────┘\n"
      ]
     },
     "metadata": {},
     "output_type": "display_data"
    },
    {
     "data": {
      "text/html": [
       "<pre style=\"white-space:pre;overflow-x:auto;line-height:normal;font-family:Menlo,'DejaVu Sans Mono',consolas,'Courier New',monospace\"><span style=\"font-weight: bold\"> Total params: </span><span style=\"color: #00af00; text-decoration-color: #00af00\">225,610</span> (881.29 KB)\n",
       "</pre>\n"
      ],
      "text/plain": [
       "\u001b[1m Total params: \u001b[0m\u001b[38;5;34m225,610\u001b[0m (881.29 KB)\n"
      ]
     },
     "metadata": {},
     "output_type": "display_data"
    },
    {
     "data": {
      "text/html": [
       "<pre style=\"white-space:pre;overflow-x:auto;line-height:normal;font-family:Menlo,'DejaVu Sans Mono',consolas,'Courier New',monospace\"><span style=\"font-weight: bold\"> Trainable params: </span><span style=\"color: #00af00; text-decoration-color: #00af00\">225,610</span> (881.29 KB)\n",
       "</pre>\n"
      ],
      "text/plain": [
       "\u001b[1m Trainable params: \u001b[0m\u001b[38;5;34m225,610\u001b[0m (881.29 KB)\n"
      ]
     },
     "metadata": {},
     "output_type": "display_data"
    },
    {
     "data": {
      "text/html": [
       "<pre style=\"white-space:pre;overflow-x:auto;line-height:normal;font-family:Menlo,'DejaVu Sans Mono',consolas,'Courier New',monospace\"><span style=\"font-weight: bold\"> Non-trainable params: </span><span style=\"color: #00af00; text-decoration-color: #00af00\">0</span> (0.00 B)\n",
       "</pre>\n"
      ],
      "text/plain": [
       "\u001b[1m Non-trainable params: \u001b[0m\u001b[38;5;34m0\u001b[0m (0.00 B)\n"
      ]
     },
     "metadata": {},
     "output_type": "display_data"
    }
   ],
   "source": [
    "model.summary()"
   ]
  },
  {
   "cell_type": "code",
   "execution_count": 14,
   "id": "260c5482",
   "metadata": {
    "execution": {
     "iopub.execute_input": "2024-08-04T21:24:35.630214Z",
     "iopub.status.busy": "2024-08-04T21:24:35.629947Z",
     "iopub.status.idle": "2024-08-04T21:24:35.633746Z",
     "shell.execute_reply": "2024-08-04T21:24:35.633010Z"
    },
    "papermill": {
     "duration": 0.019864,
     "end_time": "2024-08-04T21:24:35.635555",
     "exception": false,
     "start_time": "2024-08-04T21:24:35.615691",
     "status": "completed"
    },
    "tags": []
   },
   "outputs": [],
   "source": [
    "early_stop = EarlyStopping(monitor='val_loss',patience=3)"
   ]
  },
  {
   "cell_type": "code",
   "execution_count": 15,
   "id": "e3d09ac8",
   "metadata": {
    "execution": {
     "iopub.execute_input": "2024-08-04T21:24:35.663133Z",
     "iopub.status.busy": "2024-08-04T21:24:35.662876Z",
     "iopub.status.idle": "2024-08-04T21:25:13.800036Z",
     "shell.execute_reply": "2024-08-04T21:25:13.799108Z"
    },
    "papermill": {
     "duration": 38.153235,
     "end_time": "2024-08-04T21:25:13.802072",
     "exception": false,
     "start_time": "2024-08-04T21:24:35.648837",
     "status": "completed"
    },
    "tags": []
   },
   "outputs": [
    {
     "name": "stdout",
     "output_type": "stream",
     "text": [
      "Epoch 1/15\n",
      "\u001b[1m  73/1563\u001b[0m \u001b[37m━━━━━━━━━━━━━━━━━━━━\u001b[0m \u001b[1m3s\u001b[0m 2ms/step - accuracy: 0.1306 - loss: 2.2800"
     ]
    },
    {
     "name": "stderr",
     "output_type": "stream",
     "text": [
      "WARNING: All log messages before absl::InitializeLog() is called are written to STDERR\n",
      "I0000 00:00:1722806681.468989      67 device_compiler.h:186] Compiled cluster using XLA!  This line is logged at most once for the lifetime of the process.\n"
     ]
    },
    {
     "name": "stdout",
     "output_type": "stream",
     "text": [
      "\u001b[1m1563/1563\u001b[0m \u001b[32m━━━━━━━━━━━━━━━━━━━━\u001b[0m\u001b[37m\u001b[0m \u001b[1m10s\u001b[0m 4ms/step - accuracy: 0.3655 - loss: 1.7364 - val_accuracy: 0.5414 - val_loss: 1.2834\n",
      "Epoch 2/15\n",
      "\u001b[1m1563/1563\u001b[0m \u001b[32m━━━━━━━━━━━━━━━━━━━━\u001b[0m\u001b[37m\u001b[0m \u001b[1m4s\u001b[0m 2ms/step - accuracy: 0.5740 - loss: 1.2004 - val_accuracy: 0.6012 - val_loss: 1.1362\n",
      "Epoch 3/15\n",
      "\u001b[1m1563/1563\u001b[0m \u001b[32m━━━━━━━━━━━━━━━━━━━━\u001b[0m\u001b[37m\u001b[0m \u001b[1m4s\u001b[0m 2ms/step - accuracy: 0.6440 - loss: 1.0156 - val_accuracy: 0.6439 - val_loss: 1.0203\n",
      "Epoch 4/15\n",
      "\u001b[1m1563/1563\u001b[0m \u001b[32m━━━━━━━━━━━━━━━━━━━━\u001b[0m\u001b[37m\u001b[0m \u001b[1m4s\u001b[0m 2ms/step - accuracy: 0.6941 - loss: 0.8807 - val_accuracy: 0.6501 - val_loss: 1.0288\n",
      "Epoch 5/15\n",
      "\u001b[1m1563/1563\u001b[0m \u001b[32m━━━━━━━━━━━━━━━━━━━━\u001b[0m\u001b[37m\u001b[0m \u001b[1m4s\u001b[0m 2ms/step - accuracy: 0.7227 - loss: 0.7897 - val_accuracy: 0.6811 - val_loss: 0.9318\n",
      "Epoch 6/15\n",
      "\u001b[1m1563/1563\u001b[0m \u001b[32m━━━━━━━━━━━━━━━━━━━━\u001b[0m\u001b[37m\u001b[0m \u001b[1m4s\u001b[0m 2ms/step - accuracy: 0.7582 - loss: 0.7011 - val_accuracy: 0.6773 - val_loss: 0.9415\n",
      "Epoch 7/15\n",
      "\u001b[1m1563/1563\u001b[0m \u001b[32m━━━━━━━━━━━━━━━━━━━━\u001b[0m\u001b[37m\u001b[0m \u001b[1m4s\u001b[0m 2ms/step - accuracy: 0.7824 - loss: 0.6263 - val_accuracy: 0.6863 - val_loss: 0.9523\n",
      "Epoch 8/15\n",
      "\u001b[1m1563/1563\u001b[0m \u001b[32m━━━━━━━━━━━━━━━━━━━━\u001b[0m\u001b[37m\u001b[0m \u001b[1m4s\u001b[0m 2ms/step - accuracy: 0.8028 - loss: 0.5579 - val_accuracy: 0.6720 - val_loss: 1.0078\n"
     ]
    },
    {
     "data": {
      "text/plain": [
       "<keras.src.callbacks.history.History at 0x7e72c8027f10>"
      ]
     },
     "execution_count": 15,
     "metadata": {},
     "output_type": "execute_result"
    }
   ],
   "source": [
    "model.fit(x_train,y_cat_train,epochs=15,validation_data=(x_test,y_cat_test),callbacks=[early_stop])"
   ]
  },
  {
   "cell_type": "code",
   "execution_count": 16,
   "id": "dc192c1c",
   "metadata": {
    "execution": {
     "iopub.execute_input": "2024-08-04T21:25:13.912079Z",
     "iopub.status.busy": "2024-08-04T21:25:13.911756Z",
     "iopub.status.idle": "2024-08-04T21:25:14.175311Z",
     "shell.execute_reply": "2024-08-04T21:25:14.174394Z"
    },
    "papermill": {
     "duration": 0.320632,
     "end_time": "2024-08-04T21:25:14.177320",
     "exception": false,
     "start_time": "2024-08-04T21:25:13.856688",
     "status": "completed"
    },
    "tags": []
   },
   "outputs": [
    {
     "data": {
      "text/plain": [
       "<Axes: >"
      ]
     },
     "execution_count": 16,
     "metadata": {},
     "output_type": "execute_result"
    },
    {
     "data": {
      "image/png": "[encoded data removed]",
      "text/plain": [
       "<Figure size 640x480 with 1 Axes>"
      ]
     },
     "metadata": {},
     "output_type": "display_data"
    }
   ],
   "source": [
    "losses = pd.DataFrame(model.history.history)\n",
    "losses.plot()"
   ]
  },
  {
   "cell_type": "code",
   "execution_count": 17,
   "id": "06b86be4",
   "metadata": {
    "execution": {
     "iopub.execute_input": "2024-08-04T21:25:14.288663Z",
     "iopub.status.busy": "2024-08-04T21:25:14.288349Z",
     "iopub.status.idle": "2024-08-04T21:25:15.905000Z",
     "shell.execute_reply": "2024-08-04T21:25:15.903954Z"
    },
    "papermill": {
     "duration": 1.674522,
     "end_time": "2024-08-04T21:25:15.907401",
     "exception": false,
     "start_time": "2024-08-04T21:25:14.232879",
     "status": "completed"
    },
    "tags": []
   },
   "outputs": [
    {
     "name": "stdout",
     "output_type": "stream",
     "text": [
      "\u001b[1m313/313\u001b[0m \u001b[32m━━━━━━━━━━━━━━━━━━━━\u001b[0m\u001b[37m\u001b[0m \u001b[1m1s\u001b[0m 2ms/step\n"
     ]
    }
   ],
   "source": [
    "ypred=np.argmax(model.predict(x_test),axis=1)"
   ]
  },
  {
   "cell_type": "code",
   "execution_count": 18,
   "id": "11dd7290",
   "metadata": {
    "execution": {
     "iopub.execute_input": "2024-08-04T21:25:16.021084Z",
     "iopub.status.busy": "2024-08-04T21:25:16.020707Z",
     "iopub.status.idle": "2024-08-04T21:25:16.026674Z",
     "shell.execute_reply": "2024-08-04T21:25:16.025802Z"
    },
    "papermill": {
     "duration": 0.064715,
     "end_time": "2024-08-04T21:25:16.028578",
     "exception": false,
     "start_time": "2024-08-04T21:25:15.963863",
     "status": "completed"
    },
    "tags": []
   },
   "outputs": [
    {
     "data": {
      "text/plain": [
       "array([3, 1, 1, ..., 5, 1, 7])"
      ]
     },
     "execution_count": 18,
     "metadata": {},
     "output_type": "execute_result"
    }
   ],
   "source": [
    "ypred"
   ]
  },
  {
   "cell_type": "code",
   "execution_count": 19,
   "id": "47bb76f9",
   "metadata": {
    "execution": {
     "iopub.execute_input": "2024-08-04T21:25:16.141487Z",
     "iopub.status.busy": "2024-08-04T21:25:16.140776Z",
     "iopub.status.idle": "2024-08-04T21:25:16.165398Z",
     "shell.execute_reply": "2024-08-04T21:25:16.164067Z"
    },
    "papermill": {
     "duration": 0.083277,
     "end_time": "2024-08-04T21:25:16.167390",
     "exception": false,
     "start_time": "2024-08-04T21:25:16.084113",
     "status": "completed"
    },
    "tags": []
   },
   "outputs": [
    {
     "name": "stdout",
     "output_type": "stream",
     "text": [
      "              precision    recall  f1-score   support\n",
      "\n",
      "           0       0.71      0.71      0.71      1000\n",
      "           1       0.84      0.75      0.79      1000\n",
      "           2       0.58      0.55      0.56      1000\n",
      "           3       0.44      0.56      0.50      1000\n",
      "           4       0.60      0.63      0.62      1000\n",
      "           5       0.56      0.55      0.55      1000\n",
      "           6       0.77      0.75      0.76      1000\n",
      "           7       0.69      0.76      0.72      1000\n",
      "           8       0.82      0.72      0.77      1000\n",
      "           9       0.81      0.75      0.78      1000\n",
      "\n",
      "    accuracy                           0.67     10000\n",
      "   macro avg       0.68      0.67      0.68     10000\n",
      "weighted avg       0.68      0.67      0.68     10000\n",
      "\n"
     ]
    }
   ],
   "source": [
    "print(classification_report(y_test,ypred))"
   ]
  },
  {
   "cell_type": "code",
   "execution_count": 20,
   "id": "02d4bd67",
   "metadata": {
    "execution": {
     "iopub.execute_input": "2024-08-04T21:25:16.322257Z",
     "iopub.status.busy": "2024-08-04T21:25:16.321559Z",
     "iopub.status.idle": "2024-08-04T21:25:16.897204Z",
     "shell.execute_reply": "2024-08-04T21:25:16.896273Z"
    },
    "papermill": {
     "duration": 0.634905,
     "end_time": "2024-08-04T21:25:16.899571",
     "exception": false,
     "start_time": "2024-08-04T21:25:16.264666",
     "status": "completed"
    },
    "tags": []
   },
   "outputs": [
    {
     "data": {
      "text/plain": [
       "<Axes: >"
      ]
     },
     "execution_count": 20,
     "metadata": {},
     "output_type": "execute_result"
    },
    {
     "data": {
      "image/png": "[encoded data removed]",
      "text/plain": [
       "<Figure size 640x480 with 2 Axes>"
      ]
     },
     "metadata": {},
     "output_type": "display_data"
    }
   ],
   "source": [
    "sns.heatmap(confusion_matrix(y_test,ypred), \n",
    "            annot=True,\n",
    "            fmt='d',\n",
    "            cmap='Blues',\n",
    "            xticklabels=range(10),\n",
    "            yticklabels=range(10))\n"
   ]
  },
  {
   "cell_type": "code",
   "execution_count": null,
   "id": "597caf78",
   "metadata": {
    "papermill": {
     "duration": 0.056645,
     "end_time": "2024-08-04T21:25:17.013467",
     "exception": false,
     "start_time": "2024-08-04T21:25:16.956822",
     "status": "completed"
    },
    "tags": []
   },
   "outputs": [],
   "source": []
  }
 ],
 "metadata": {
  "kaggle": {
   "accelerator": "gpu",
   "dataSources": [],
   "dockerImageVersionId": 30747,
   "isGpuEnabled": true,
   "isInternetEnabled": true,
   "language": "python",
   "sourceType": "notebook"
  },
  "kernelspec": {
   "display_name": "Python 3",
   "language": "python",
   "name": "python3"
  },
  "language_info": {
   "codemirror_mode": {
    "name": "ipython",
    "version": 3
   },
   "file_extension": ".py",
   "mimetype": "text/x-python",
   "name": "python",
   "nbconvert_exporter": "python",
   "pygments_lexer": "ipython3",
   "version": "3.10.13"
  },
  "papermill": {
   "default_parameters": {},
   "duration": 68.972912,
   "end_time": "2024-08-04T21:25:18.993303",
   "environment_variables": {},
   "exception": null,
   "input_path": "__notebook__.ipynb",
   "output_path": "__notebook__.ipynb",
   "parameters": {},
   "start_time": "2024-08-04T21:24:10.020391",
   "version": "2.5.0"
  }
 },
 "nbformat": 4,
 "nbformat_minor": 5
}
